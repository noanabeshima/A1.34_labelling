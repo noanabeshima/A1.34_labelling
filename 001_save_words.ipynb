{
 "cells": [
  {
   "cell_type": "code",
   "execution_count": null,
   "metadata": {},
   "outputs": [],
   "source": [
    "import tinymodel\n",
    "import tokre\n",
    "\n",
    "from datasets import load_dataset\n",
    "\n",
    "tokre.setup(tokenizer=tinymodel.tokenizer, workspace='workspace')\n",
    "\n",
    "\n",
    "ds = load_dataset('noanabeshima/TinyStoriesV2', split='validation')\n",
    "word_counts = tokre.get_word_counts(ds)\n",
    "words = [word[0] for word in word_counts if '[UNK]' not in word[0]]\n",
    "tokre.save_literal_set('words', 'Words extracted from validation set of TinyStories V2', literals=words, vary_leading_space=True, vary_capitalization=True, strip_and_lowercase=False)"
   ]
  }
 ],
 "metadata": {
  "language_info": {
   "name": "python"
  }
 },
 "nbformat": 4,
 "nbformat_minor": 2
}
